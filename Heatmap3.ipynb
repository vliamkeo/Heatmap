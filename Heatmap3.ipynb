{
 "cells": [
  {
   "cell_type": "code",
   "execution_count": 17,
   "id": "5a8a3652-888f-4d84-8e21-c4f043503cc4",
   "metadata": {},
   "outputs": [],
   "source": [
    "import pandas as pd\n",
    "import seaborn as sns\n",
    "\n",
    "from matplotlib import pyplot as plt\n",
    "import numpy as np"
   ]
  },
  {
   "cell_type": "code",
   "execution_count": 18,
   "id": "bec68ebc-11db-460b-8bda-326e520d339e",
   "metadata": {},
   "outputs": [
    {
     "name": "stdout",
     "output_type": "stream",
     "text": [
      "2.2.3\n"
     ]
    }
   ],
   "source": [
    "import pandas as pd\n",
    "print (pd.__version__)\n",
    "#verify pandas is working after changing environment variables"
   ]
  },
  {
   "cell_type": "code",
   "execution_count": 19,
   "id": "cad2caef-4de2-417b-a735-6bc62b652342",
   "metadata": {},
   "outputs": [],
   "source": [
    "file_path = r'C:\\Cabinet (Vonghachack)\\Education\\Research\\Gao Lab\\Data\\FoldXHeatmapDataSet.xlsx'"
   ]
  },
  {
   "cell_type": "code",
   "execution_count": 20,
   "id": "0693be50-8f9f-4887-a059-aa228a7425bb",
   "metadata": {},
   "outputs": [],
   "source": [
    "data=pd.read_excel(file_path,sheet_name=\"delta delta G\",\n",
    "                   skiprows=22,\n",
    "                   nrows=30,\n",
    "                   #usecols=\"A:L\",\n",
    "                   index_col=1,\n",
    "                   header=0)\n",
    "#print(f\"Rows loaded:{len(data)}\")\n",
    "#Have to save Excel file before changes are reflected in Jupyter Notebook"
   ]
  },
  {
   "cell_type": "code",
   "execution_count": 21,
   "id": "7a0cb78c-1a42-46a3-8edc-45e5a32c3374",
   "metadata": {},
   "outputs": [],
   "source": [
    "data.columns = data.columns.astype(str)\n",
    "data_clean = data.loc[:, ~data.columns.str.contains('Unnamed')]\n",
    "data_clean = data_clean.dropna(axis=1, how='all')\n",
    "#drop empty columns\n",
    "#drops unnamed columns\n",
    "#clean data"
   ]
  },
  {
   "cell_type": "code",
   "execution_count": 22,
   "id": "2d72ddce-6ce8-49d6-9e88-a634d6a51d65",
   "metadata": {},
   "outputs": [
    {
     "name": "stdout",
     "output_type": "stream",
     "text": [
      "                  H19      H21      R24     H28      L29      G30      W46  \\\n",
      "delta delta G                                                                \n",
      "GLYCINE        3.2630  4.07933  2.17316  0.8763  4.06082  0.17330  3.88567   \n",
      "ALANINE        2.2259  2.77177  1.68864  0.5081  3.13391  1.62240  2.82302   \n",
      "LEUCINE       -1.1567  0.17509  0.97508 -0.5825  0.00000  2.88340  0.96066   \n",
      "VALINE         0.9557  1.73815  1.87371  0.0316  1.60047  6.32622  1.42482   \n",
      "ISOLEUCINE    -0.1863  0.61138  0.89382 -0.8210  1.04063  6.34009  0.63377   \n",
      "\n",
      "                   G47      A48      N49     T53      I69      A71      D73  \\\n",
      "delta delta G                                                                 \n",
      "GLYCINE        0.10898  0.79125  2.28318  1.5628  5.26501  1.16573  2.33190   \n",
      "ALANINE        1.56550  0.01636  2.25400  0.5656  3.92939 -0.04370  1.71774   \n",
      "LEUCINE        2.93054  0.29143  1.93770  0.0728 -0.03792 -1.43070  0.19000   \n",
      "VALINE         5.15196  0.56148  2.25767  0.2104  1.02351 -0.59080  1.59359   \n",
      "ISOLEUCINE     5.00652  0.39437  1.88579  0.1040  0.05455 -0.09800  1.43486   \n",
      "\n",
      "                   T74      I75      V78     F100  \n",
      "delta delta G                                      \n",
      "GLYCINE        0.02521  2.04860  4.04303  2.86427  \n",
      "ALANINE        0.70344  1.50529  2.58118  1.49806  \n",
      "LEUCINE        0.81445 -0.19894 -0.90380 -2.33260  \n",
      "VALINE         1.08412  1.09628  0.03314 -0.05680  \n",
      "ISOLEUCINE     0.78312 -0.04339  0.07452 -0.95790  \n"
     ]
    }
   ],
   "source": [
    "print(data_clean.head())\n",
    "#verify that data is printed by showing first 5 rows"
   ]
  },
  {
   "cell_type": "code",
   "execution_count": 23,
   "id": "5fe6930f-d613-4923-8b2d-fde0214ec625",
   "metadata": {},
   "outputs": [
    {
     "name": "stdout",
     "output_type": "stream",
     "text": [
      "(20, 18)\n"
     ]
    }
   ],
   "source": [
    "print(data_clean.shape)\n",
    "#verify number of (rows, columns)"
   ]
  },
  {
   "cell_type": "code",
   "execution_count": 24,
   "id": "c609444b-f675-45ad-8484-ebfd911e49cf",
   "metadata": {},
   "outputs": [
    {
     "name": "stdout",
     "output_type": "stream",
     "text": [
      "delta delta G      \n",
      "PHENYLALANINE  A71    -3.6124\n",
      "METHIONINE     A71    -2.8820\n",
      "LEUCINE        F100   -2.3326\n",
      "METHIONINE     T53    -2.0425\n",
      "GLUTAMATE      H28    -2.0188\n",
      "dtype: float64\n",
      "[('PHENYLALANINE', 'A71'), ('METHIONINE', 'A71'), ('LEUCINE', 'F100'), ('METHIONINE', 'T53'), ('GLUTAMATE', 'H28')]\n"
     ]
    }
   ],
   "source": [
    "plt.figure(figsize=(12,8))\n",
    "top_5=data_clean.stack().nsmallest(5)\n",
    "print(top_5)\n",
    "top_5_coords=[(i[0],i[1]) for i in top_5.index]\n",
    "#each tuple has exactly two elements\n",
    "print(top_5_coords)\n",
    "#for row, col in top_5_coords:\n",
    "    #value = data_clean.iloc[row, col]\n",
    "    #heatmap.text(col + 0.5, row + 0.5, f\"{value:.2f}\",\n",
    "                 #ha=\"center\", va=\"center\", color=\"red\", fontsize=12, weight=\"bold\")\n",
    "\n",
    "heatmap = sns.heatmap(\n",
    "    data_clean,               # Your cleaned DataFrame\n",
    "    cmap=\"coolwarm_r\",          # Color palette selection\n",
    "    center=0,                 # Color scale centering\n",
    "    annot=True,               # Value display, show numbers\n",
    "    fmt=\".2f\",                # Value formatting, SF\n",
    "    linewidths=1, # Cell borders, adjust width\n",
    "    linecolor=\"gray\",\n",
    "    vmin=-4,\n",
    "    vmax=0\n",
    "    #cbar_kws={'label': 'ΔΔG Value'}  # Colorbar customization\n",
    ")\n",
    "\n",
    "heatmap.set_xlabel(\"Active Site Residues\", fontsize=24)  # X-axis title\n",
    "heatmap.set_ylabel(\"Amino Acids\", fontsize=24)  # Y-axis title\n",
    "plt.title(\"ΔΔG Values for dHCA (kcal/mol)\",fontsize=24)\n",
    "\n",
    "plt.savefig('heatmap.png',dpi=300,bbox_inches='tight')\n",
    "plt.close()\n",
    "\n",
    "#jupyter notebooks automatically renders sns.heatmap(), otherwise use plt.show() from matplotlib Library\n",
    "#what is a kwarg :D"
   ]
  },
  {
   "cell_type": "code",
   "execution_count": null,
   "id": "85fe2bfa-ea91-4cbe-ba3f-ef33a5bd8349",
   "metadata": {},
   "outputs": [],
   "source": []
  }
 ],
 "metadata": {
  "kernelspec": {
   "display_name": "Python 3 (ipykernel)",
   "language": "python",
   "name": "python3"
  },
  "language_info": {
   "codemirror_mode": {
    "name": "ipython",
    "version": 3
   },
   "file_extension": ".py",
   "mimetype": "text/x-python",
   "name": "python",
   "nbconvert_exporter": "python",
   "pygments_lexer": "ipython3",
   "version": "3.13.2"
  }
 },
 "nbformat": 4,
 "nbformat_minor": 5
}
